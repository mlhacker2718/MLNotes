{
 "cells": [
  {
   "cell_type": "markdown",
   "id": "7734d10a",
   "metadata": {
    "editable": true,
    "slideshow": {
     "slide_type": ""
    },
    "tags": []
   },
   "source": [
    "# Machine Learning Master Notes 1 - Introduction to Machine Learning"
   ]
  },
  {
   "cell_type": "markdown",
   "id": "93dae1d8",
   "metadata": {},
   "source": [
    "## What is Machine Learning?"
   ]
  },
  {
   "cell_type": "markdown",
   "id": "82fe59fa-87f1-433e-8ec8-244a4bc1adce",
   "metadata": {},
   "source": [
    ">Arthur Sameul - `\"Machine Learning (ML) is the field of study that gives computers the ability to learn without explicitly being programmed.\"`"
   ]
  },
  {
   "cell_type": "markdown",
   "id": "a3682690",
   "metadata": {
    "editable": true,
    "slideshow": {
     "slide_type": ""
    },
    "tags": []
   },
   "source": [
    "1. A machine learning (ML) algorithm is a computer program that is able to make a prediction based on the input data without being explicitly programmed on how to arrive at the prediction.\n",
    "2. Machine learning programs are trained to make predictions based on historical examples/data. \n",
    "3. Successful prediction will be measured as the performance metric against the machine learning model. We use such metrics to determine the performance of the machine learning models. \n",
    "4. The learning program will then improve its performance with additional historical examples while fine tuning its parameters.\n"
   ]
  },
  {
   "cell_type": "markdown",
   "id": "bb72c67f-e997-4c8e-9fd5-e2ede56cd593",
   "metadata": {},
   "source": [
    "### Function of Machine Learning\n",
    "\n",
    "1. Machine Learning is able to use data to explain what happened.\n",
    "2. Machine Learning is able to use data to predict what will happen.\n",
    "3. Machine Learning is able to make suggestions based on historical data."
   ]
  },
  {
   "cell_type": "markdown",
   "id": "ff499018",
   "metadata": {},
   "source": [
    "### Machine Learning Types\n",
    "1. There are 2 main types of machine learning. They are **Supervised Learning** and **Unsupervised Learning**.\n",
    "    - In **Supervised Learning**, we provide the machine learning model a predetermined set of input with the expected outcome. The learning model will need to determine the machine learning parameters by learning the historical data and use such parameters as the basis for the prediction.\n",
    "    - For **Unsupervised Learning**, we feed the machine learning model with raw input data and let the machine learning model discover the structure or pattern of the data by itself.\n"
   ]
  },
  {
   "cell_type": "markdown",
   "id": "44ee9a37",
   "metadata": {},
   "source": [
    "### Supervised Learning\n",
    "\n",
    "1. In **Supervised Learning**, we provide input data together with the expected answer or outcome in order for the machine learning model to learn. The learning model will learn the input data and determine the machine learning parameters by examining the input data with the expected answers. The learning model will develop its own parameters while learning from the data. After some iterations, the machine learning model is able to predict any new inputs without an expected answer using the learned parameters. The basis of prediction is based on previous historical data.\n",
    "2. Common applications for supervised learning are:\n",
    "    - predicting prices (such as housing prices, stock prices etc) based on historical trends,\n",
    "    - predicting temperatures,\n",
    "    - prediction production volume,\n",
    "    - classifying email as spam or not spam,\n",
    "    - determining if a tumor is benign or malignant,\n",
    "    - translating a group of text into another language, or\n",
    "    - converting an audio input to text output.  \n",
    "3. **Supervised Learning** can be further classified into **Regression or Classification** problems.\n",
    "    - **Regression** problems are problems that require the machine learning (ML) model to make predictions from infinitely many possible answers. Examples for regression problems are predicting housing prices, stock price, temperature, water level, sales volume or production volume etc.\n",
    "    - Supervised learning can also be used for **Classification** problems where the task of the ML model is to classify a problem/object into 2 or more classes/categories. For example, we can classify a tumor as malignant or benign; or we can classify an email as spam or not spam.\n",
    "    - Besides classifying data into Yes/No, True/False; we can classify/categorize data into multiple classes/categories. For example, we can classify books into different genres such as Mystery,  SciFi, Thrillers, Self-Help, Business …etc. This is considered as **Multiclass Classification**.\n",
    "    - A common example of classification problem is to determine if a tumor is benign or malignant. In this application, we provided the ML model a set of historical data with tumor size, tumor shape and the expected answer. The ML model will examine the input data with the expected answer and fine tune its learning parameters. Once the training is done, the ML model will be able to predict new tumor inputs without the expected outcome.\n",
    "4. There are many machine learning algorithms. The most basic ML algorithm is Linear Regression. However, we do not apply linear regression very often since most things we want to predict are not in a linear form. Most commonly, we use **Polynomial Regression** algorithms. We use **Logistic Regression** for classification problems. In addition, we also use other ML models such as **Neural Networks** and **Decision Trees** for supervised learning.\n"
   ]
  },
  {
   "cell_type": "markdown",
   "id": "90b264e2",
   "metadata": {},
   "source": [
    "### Unsupervised Learning\n",
    "1. For **Unsupervised Learning**, we feed the computer program with raw data without expected or predetermined result. The ML model is supposed to examine the raw data and define its structure by detecting similar features or characteristics. \n",
    "2. The most common application of unsupervised learning is **Clustering**. Other common applications of unsupervised learning are **Anomaly Detection** and **Dimensionality Reduction**. \n",
    "3. An example of clustering is where Google News grouped various related news together. This ML model has to find similarity with input features given without referencing any labels or output.\n",
    "4. We use anomaly detection to detect any data/activities that are not normal. Dimensionality reduction is used to compress data using fewer numbers.\n",
    "5. For unsupervised learning, we use **K-Means Clustering** and **PCA (Principal Component Analysis)**. We also use **Gaussian Abnormally Detection Algorithm** to monitor and detect abnormality.\n"
   ]
  },
  {
   "cell_type": "markdown",
   "id": "7eb29a8d-3686-4d81-946b-c4316d11574a",
   "metadata": {},
   "source": [
    "## End of Note 1"
   ]
  },
  {
   "cell_type": "code",
   "execution_count": null,
   "id": "7ace25b5-2b83-40ec-b58d-dbbab69b8c9c",
   "metadata": {},
   "outputs": [],
   "source": []
  }
 ],
 "metadata": {
  "kernelspec": {
   "display_name": "Python 3 (ipykernel)",
   "language": "python",
   "name": "python3"
  },
  "language_info": {
   "codemirror_mode": {
    "name": "ipython",
    "version": 3
   },
   "file_extension": ".py",
   "mimetype": "text/x-python",
   "name": "python",
   "nbconvert_exporter": "python",
   "pygments_lexer": "ipython3",
   "version": "3.10.9"
  }
 },
 "nbformat": 4,
 "nbformat_minor": 5
}
