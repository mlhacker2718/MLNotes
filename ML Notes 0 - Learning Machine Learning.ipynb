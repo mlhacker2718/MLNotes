{
 "cells": [
  {
   "cell_type": "markdown",
   "id": "7734d10a",
   "metadata": {},
   "source": [
    "# Machine Learning Notes 0 - Learning Machine Learning"
   ]
  },
  {
   "cell_type": "markdown",
   "id": "b39436df-458e-4168-92c9-1e89eeb8e6e6",
   "metadata": {
    "jp-MarkdownHeadingCollapsed": true
   },
   "source": [
    "## Learning Artificial Intelligence"
   ]
  },
  {
   "cell_type": "markdown",
   "id": "0daa4fbf-2825-4a93-a999-1f4d8ec96e21",
   "metadata": {},
   "source": [
    "As we have discussed in previous articles, the following is our approaches to learning artificial intelligence:\n",
    "\n",
    "1. Machine Learning\n",
    "2. Neural Network & Deep Learning\n",
    "3. AI Search - Searching for Known Solution\n",
    "4. Knowledge Representation and Logical Reasoning\n",
    "5. Probabilistic AI - Dealing with Uncertainties\n",
    "6. Reinforcement Learning"
   ]
  },
  {
   "cell_type": "markdown",
   "id": "2ea0445a-17e7-4e36-9e6d-6ef1f783abde",
   "metadata": {
    "jp-MarkdownHeadingCollapsed": true
   },
   "source": [
    "## Learning Machine Learning Basics"
   ]
  },
  {
   "cell_type": "markdown",
   "id": "06e150be-b31d-47ff-b14b-bfbb28ae2acb",
   "metadata": {},
   "source": [
    "We will be introducing machine learning in the following order:\n",
    "\n",
    "1. **Introduction to Machine Learning**\n",
    "2. **Supervised Learning**\n",
    "    - **Linear Regression**\n",
    "        - Overview of Linear Regression (One Feature)\n",
    "        - Simple Linear Regression (One Feature, No Bias)\n",
    "        - Simple Linear Regression (One Feature with Bias)\n",
    "        - Linear Regression and Gradient Descent\n",
    "        - Multiple Variable Linear Regression\n",
    "        - Feature Scaling and Learning Rate\n",
    "    - **Polynomial Regression**\n",
    "        - Single Variable Polynomial Regression\n",
    "        - Regression Feature Engineering and Polynomial Regression\n",
    "    - **Regularization in Polynomial Regression**\n",
    "    - **Logistics Regression**\n",
    "        - Logistics Regression\n",
    "    - **Regularization in Logistic Regression**\n",
    "3. **Implementing ML Projects**\n",
    "    - Best Practice in Implementing ML Projects\n",
    "4. **Implementing ML Projects with Scikit Learn**\n",
    "    - Pipeline flow for ML Projects"
   ]
  },
  {
   "cell_type": "markdown",
   "id": "ebe211db-3518-40ff-b167-07c389c20bf4",
   "metadata": {
    "jp-MarkdownHeadingCollapsed": true
   },
   "source": [
    "## Machine Learning - Advance Algorithm"
   ]
  },
  {
   "cell_type": "markdown",
   "id": "c036bd5c-6621-4864-884f-762645be7cfb",
   "metadata": {},
   "source": [
    "1. **Basics of Neural Network & Deep Learning**\n",
    "2. **Decision Tree**\n",
    "3. **Support Vector Machine**\n",
    "4. **Unsupervised Learning**\n",
    "    - **K Means Clustering**\n",
    "    - **Principle Component Analysis (Dimensional Reduction)**\n",
    "    - **Anomaly Detection**\n",
    "6. **Recommendation System**\n",
    " "
   ]
  },
  {
   "cell_type": "markdown",
   "id": "183deefc-c203-45b0-94f2-b0c1bb24be5c",
   "metadata": {
    "jp-MarkdownHeadingCollapsed": true
   },
   "source": [
    "## Requirement for Learning Machine Learning"
   ]
  },
  {
   "cell_type": "markdown",
   "id": "6187d4ea-339e-4f09-9e16-4cf58e403d58",
   "metadata": {},
   "source": [
    "This tutorial start machine learning in its most basic form, that is regression analysis. Thus a basic knowledge of Statistics would be an advantage. If you do not have such knowledge, a basic understanding of linear equation will be enough. "
   ]
  },
  {
   "cell_type": "markdown",
   "id": "fe7739e8-872f-4829-8ed3-270a21fa6752",
   "metadata": {},
   "source": [
    "In computing, we will be using Python programming. A basic understanding of programming or Python programming would be good.\n",
    "\n",
    "There are a lot of free source on the Internet on Python programming. We specially recommend Python for Everyone from Dr Chuck\n",
    "- https://online.dr-chuck.com/\n",
    "- https://www.py4e.com/"
   ]
  },
  {
   "cell_type": "markdown",
   "id": "ee95dff4",
   "metadata": {},
   "source": [
    "## End of Note 0"
   ]
  }
 ],
 "metadata": {
  "kernelspec": {
   "display_name": "Python 3 (ipykernel)",
   "language": "python",
   "name": "python3"
  },
  "language_info": {
   "codemirror_mode": {
    "name": "ipython",
    "version": 3
   },
   "file_extension": ".py",
   "mimetype": "text/x-python",
   "name": "python",
   "nbconvert_exporter": "python",
   "pygments_lexer": "ipython3",
   "version": "3.11.9"
  }
 },
 "nbformat": 4,
 "nbformat_minor": 5
}
