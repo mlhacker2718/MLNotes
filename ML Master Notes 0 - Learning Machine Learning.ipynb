{
 "cells": [
  {
   "cell_type": "markdown",
   "id": "7734d10a",
   "metadata": {},
   "source": [
    "# Machine Learning Master Notes 0 - Learning Machine Learning"
   ]
  },
  {
   "cell_type": "markdown",
   "id": "2ea0445a-17e7-4e36-9e6d-6ef1f783abde",
   "metadata": {},
   "source": [
    "## Learning Machine Learning"
   ]
  },
  {
   "cell_type": "markdown",
   "id": "06e150be-b31d-47ff-b14b-bfbb28ae2acb",
   "metadata": {},
   "source": [
    "We will be introducing machine learning in the following order:\n",
    "\n",
    "1. Introduction to Machine Learning\n",
    "2. Supervised Learning\n",
    "    - Linear Regression\n",
    "        - Overview of Linear Regression (One Feature)\n",
    "        - Simple Linear Regression (One Feature, No Bias)\n",
    "        - Simple Linear Regression (One Feature with Bias)\n",
    "        - Linear Regression and Gradient Descent\n",
    "        - Multiple Variable Linear Regression\n",
    "        - Feature Scaling and Learning Rate\n",
    "    - Polynomial Regression\n",
    "        - Regression Feature Engineering and Polynomial Regression\n",
    "    - Logistics Regression\n",
    "        - Logistics Regression\n",
    "    - Regularization\n",
    "        - Regularization in Polynomial Regression\n",
    "        - Regularization in Logistics Regression\n",
    "3. Implementing ML Projects\n",
    "    - Best Practice in Implementing ML Projects\n",
    "    - Implementing ML Projects with Scikit Learn\n",
    "    - Pipeline flow for ML Projects\n"
   ]
  },
  {
   "cell_type": "markdown",
   "id": "ee95dff4",
   "metadata": {},
   "source": [
    "## End of Note 0"
   ]
  },
  {
   "cell_type": "code",
   "execution_count": null,
   "id": "c79beee2",
   "metadata": {},
   "outputs": [],
   "source": []
  },
  {
   "cell_type": "code",
   "execution_count": null,
   "id": "b6837af9",
   "metadata": {},
   "outputs": [],
   "source": []
  }
 ],
 "metadata": {
  "kernelspec": {
   "display_name": "Python 3 (ipykernel)",
   "language": "python",
   "name": "python3"
  },
  "language_info": {
   "codemirror_mode": {
    "name": "ipython",
    "version": 3
   },
   "file_extension": ".py",
   "mimetype": "text/x-python",
   "name": "python",
   "nbconvert_exporter": "python",
   "pygments_lexer": "ipython3",
   "version": "3.10.9"
  }
 },
 "nbformat": 4,
 "nbformat_minor": 5
}
